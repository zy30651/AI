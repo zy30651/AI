{
 "cells": [
  {
   "cell_type": "code",
   "execution_count": 15,
   "metadata": {
    "scrolled": true
   },
   "outputs": [
    {
     "name": "stdout",
     "output_type": "stream",
     "text": [
      "[1 2 3 4 5 6 7 8] (8,)\n",
      "[[1 2 3 4]\n",
      " [5 6 7 8]] (2, 4)\n",
      "[[[1 2]\n",
      "  [3 4]]\n",
      "\n",
      " [[5 6]\n",
      "  [7 8]]] (2, 2, 2)\n",
      "[1 2 3 4 5 6 7 8]\n",
      "----------------------------\n",
      "[1 2 3 4 5 6 7 8] (8,)\n",
      "[1 2 3 4 5 6 7 8] (8,)\n",
      "[[[100 100]\n",
      "  [  3   4]]\n",
      "\n",
      " [[  5   6]\n",
      "  [  7   8]]] (2, 2, 2)\n",
      "[[1 2 3 4 5 6 7 8]] (1, 8)\n"
     ]
    }
   ],
   "source": [
    "# ndarray数组对象的维度操作\n",
    "# 视图变维(数据共享) reshape()与ravel()\n",
    "import numpy as np\n",
    "a = np.arange(1, 9)\n",
    "print(a, a.shape)\n",
    "# 视图变维：变为2行4列的二维数组\n",
    "b = a.reshape(2, 4)\n",
    "print(b, b.shape)\n",
    "# 视图变维：变为2页2行4列的三维数组\n",
    "c = b.reshape(2, 2, 2)\n",
    "print(c, c.shape)\n",
    "# 视图变维：变为一维数组\n",
    "d = c.ravel()\n",
    "print(d)\n",
    "print(\"----------------------------\")\n",
    "# 复制变维-数据独立  flatten()和copy()\n",
    "# 变维一维数组\n",
    "e = c.flatten()\n",
    "print(e, e.shape)\n",
    "# flatten，数据独立，修改元数据，不会影响新数据\n",
    "c[0][0] = 100\n",
    "print(e, e.shape)\n",
    "# copy当前数组\n",
    "f = c.copy()\n",
    "print(f, f.shape)\n",
    "\n",
    "# 就地变维 \n",
    "e.shape = (-1, 8)\n",
    "print(e, e.shape)\n"
   ]
  }
 ],
 "metadata": {
  "kernelspec": {
   "display_name": "Python 3",
   "language": "python",
   "name": "python3"
  },
  "language_info": {
   "codemirror_mode": {
    "name": "ipython",
    "version": 3
   },
   "file_extension": ".py",
   "mimetype": "text/x-python",
   "name": "python",
   "nbconvert_exporter": "python",
   "pygments_lexer": "ipython3",
   "version": "3.7.3"
  }
 },
 "nbformat": 4,
 "nbformat_minor": 2
}
