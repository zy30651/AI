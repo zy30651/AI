{
 "cells": [
  {
   "cell_type": "code",
   "execution_count": 40,
   "metadata": {},
   "outputs": [
    {
     "name": "stdout",
     "output_type": "stream",
     "text": [
      "[('zs', [91, 73, 89], 15) ('ls', [92, 93, 99], 17)\n",
      " ('ww', [94, 63, 79], 18)]\n",
      "73\n",
      "--------------------------------\n",
      "[('zs', [91, 73, 89], 15) ('ls', [92, 93, 99], 17)\n",
      " ('ww', [94, 63, 79], 18)]\n",
      "--------------------------------\n",
      "[('zs', [91, 73, 89], 15) ('ls', [92, 93, 99], 17)\n",
      " ('ww', [94, 63, 79], 18)] ww\n",
      "--------------------------------\n",
      "1234\n",
      "5678\n",
      "34 12\n",
      "--------------------------------\n",
      "['2011' '2012-01-01' '2013-01-01 01:01:01' '2011-02-01'] <U19\n",
      "['2011-01' '2012-01' '2013-01' '2011-02'] datetime64[M]\n",
      "12 months\n",
      "[492 504 516 493] int32\n"
     ]
    }
   ],
   "source": [
    "# 复合数据类型\n",
    "import numpy as np\n",
    "data = [('zs', [91, 73, 89], 15),\n",
    "       ('ls', [92, 93, 99], 17),\n",
    "       ('ww', [94, 63, 79], 18)]\n",
    "# U2字符串出现2次， 3int32-3个int32组成的列表\n",
    "ary = np.array(data, dtype='U2, 3int32, int32')\n",
    "print(ary)\n",
    "print(ary[0][1][1])\n",
    "print(\"--------------------------------\")\n",
    "# 第二种设置dtype的方式\n",
    "b = np.array(data, dtype=[('name', 'str', 2), (\"scores\", 'int32', 3), ('age', 'int32', 1)])\n",
    "print(b)\n",
    "print(\"--------------------------------\")\n",
    "# 第三章设置dtype的方式\n",
    "c = np.array(data, dtype={'names':['name', 'scores', 'age'], 'formats':['U2', '3int32', 'int32']})\n",
    "print(c, c[2]['name'])\n",
    "\n",
    "print(\"--------------------------------\")\n",
    "# 第四种设置dtype的方式\n",
    "e = np.array([0x1234, 0x5678], dtype=('u2', {'lowc':('u1', 0),\n",
    "                                            'hignc':('u1', 1)}))\n",
    "print('%x' % e[0])\n",
    "print('%x' % e[1])\n",
    "print('%x %x' % (e['lowc'][0], e['hignc'][0]))\n",
    "print(\"--------------------------------\")\n",
    "# 测试日期类型数组\n",
    "f = np.array(['2011', '2012-01-01', '2013-01-01 01:01:01', '2011-02-01'])\n",
    "f = np.array(f)\n",
    "print(f, f.dtype)\n",
    "\n",
    "# 64位的二进制描述的日期数，D精确到日，M月，h小时，m分钟，s秒\n",
    "f = f.astype('M8[M]')\n",
    "print(f, f.dtype)\n",
    "# 日期相减\n",
    "print(f[2] - f[1])\n",
    "f = f.astype('int32')\n",
    "print(f, f.dtype)\n",
    "print(\"--------------------------------\")\n",
    "# 类型字符码\n",
    "# int8/16/32/64 = i1/i2/i4/i8    3i4：大端字节序，3int32,3个元素的一位数组，每个元素都是整型，每个整型元素占4个字节\n",
    "# uint8/16/32/64 = u1/u2/u4/u8   <(2,3)u8=6个元素2行3列的二维数组，每个都是无符号整形，每个无符号整型占8个字节\n",
    "# float/16/32/64 = f2/f4/f8\n",
    "# complex64/128 = c8/c16\n",
    "# str_ = U<字符数>                U7：包含7个字符的Unicode字符串，每个字符串占4个字节，采用默认字节序\n",
    "# datetime64 = M8[Y]M8[M]/D/h/m/s\n",
    "print(\"--------------------------------\")\n",
    "\n"
   ]
  },
  {
   "cell_type": "code",
   "execution_count": null,
   "metadata": {},
   "outputs": [],
   "source": []
  }
 ],
 "metadata": {
  "kernelspec": {
   "display_name": "Python 3",
   "language": "python",
   "name": "python3"
  },
  "language_info": {
   "codemirror_mode": {
    "name": "ipython",
    "version": 3
   },
   "file_extension": ".py",
   "mimetype": "text/x-python",
   "name": "python",
   "nbconvert_exporter": "python",
   "pygments_lexer": "ipython3",
   "version": "3.7.3"
  }
 },
 "nbformat": 4,
 "nbformat_minor": 2
}
