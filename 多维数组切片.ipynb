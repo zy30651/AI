{
 "cells": [
  {
   "cell_type": "code",
   "execution_count": 29,
   "metadata": {},
   "outputs": [
    {
     "name": "stdout",
     "output_type": "stream",
     "text": [
      "[[[ 1  2  3]\n",
      "  [ 4  5  6]\n",
      "  [ 7  8  9]]\n",
      "\n",
      " [[10 11 12]\n",
      "  [13 14 15]\n",
      "  [16 17 18]]\n",
      "\n",
      " [[19 20 21]\n",
      "  [22 23 24]\n",
      "  [25 26 27]]]\n",
      "----------------\n",
      "[[[ 1  2  3]\n",
      "  [ 4  5  6]]\n",
      "\n",
      " [[10 11 12]\n",
      "  [13 14 15]]]\n",
      "[[[ 1  2  3]\n",
      "  [ 7  8  9]]\n",
      "\n",
      " [[19 20 21]\n",
      "  [25 26 27]]]\n",
      "[1 3 5 7 9]\n"
     ]
    }
   ],
   "source": [
    "import numpy as np\n",
    "# 多维数组切片\n",
    "a = np.arange(1,28)\n",
    "a.resize(3, 3, 3)\n",
    "print(a)\n",
    "print(\"----------------\")\n",
    "print(a[:2, :2])\n",
    "print(a[::2, ::2])\n",
    "# # 切出1页\n",
    "# print(a[1, :, :])\n",
    "# print(\"----------------\")\n",
    "# # 切出所有页的1行\n",
    "# print(a[:, 1, :])\n",
    "# print(\"----------------\")\n",
    "# # 切出所有页的1列\n",
    "# print(a[:, :, 1])\n",
    "# print(\"----------------\")\n",
    "# # 切出0页的1行1列\n",
    "# print(a[0, 1, 1])\n",
    "# print(a[0, :, 0])\n",
    "\n",
    "# ndarray数组的掩码操作\n",
    "a = np.arange(1, 10)\n",
    "mask = [True, False, True, False, True, False, True, False, True]\n",
    "print(a[mask])"
   ]
  }
 ],
 "metadata": {
  "kernelspec": {
   "display_name": "Python 3",
   "language": "python",
   "name": "python3"
  },
  "language_info": {
   "codemirror_mode": {
    "name": "ipython",
    "version": 3
   },
   "file_extension": ".py",
   "mimetype": "text/x-python",
   "name": "python",
   "nbconvert_exporter": "python",
   "pygments_lexer": "ipython3",
   "version": "3.7.3"
  }
 },
 "nbformat": 4,
 "nbformat_minor": 2
}
