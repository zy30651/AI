{
 "cells": [
  {
   "cell_type": "code",
   "execution_count": 13,
   "metadata": {},
   "outputs": [
    {
     "name": "stdout",
     "output_type": "stream",
     "text": [
      "[1 2 3 4 5 6] <class 'numpy.ndarray'>\n",
      "[11 12 13 14 15 16]\n",
      "[ 2  4  6  8 10 12]\n",
      "[ 2  4  6  8 10 12]\n",
      "[True, False]\n",
      "[[True, False]]\n"
     ]
    }
   ],
   "source": [
    "import numpy as np\n",
    "ary = np.array([1,2,3,4,5,6])\n",
    "print(ary, type(ary))\n",
    "print(ary + 10)\n",
    "print(ary * 2)\n",
    "print(ary + ary)\n",
    "b = [True, False]\n",
    "print(b)\n",
    "a = [b]\n",
    "print(a)"
   ]
  },
  {
   "cell_type": "code",
   "execution_count": 22,
   "metadata": {},
   "outputs": [
    {
     "name": "stdout",
     "output_type": "stream",
     "text": [
      "[0 1 2 3 4]\n",
      "[0 2 4 6 8]\n"
     ]
    }
   ],
   "source": [
    "import numpy as np\n",
    "a = np.arange(0, 5, 1)\n",
    "# 起始值0，终止值5，步长1\n",
    "print(a)\n",
    "a1 = np.arange(0, 10, 2)\n",
    "# 起始值0，终止值10，步长2\n",
    "print(a1)"
   ]
  },
  {
   "cell_type": "code",
   "execution_count": 26,
   "metadata": {},
   "outputs": [
    {
     "name": "stdout",
     "output_type": "stream",
     "text": [
      "[0. 0. 0. 0. 0. 0. 0. 0. 0. 0.]\n"
     ]
    }
   ],
   "source": [
    "import numpy as np\n",
    "a2 = np.zeros(10)\n",
    "print(a2)"
   ]
  },
  {
   "cell_type": "code",
   "execution_count": 40,
   "metadata": {},
   "outputs": [
    {
     "name": "stdout",
     "output_type": "stream",
     "text": [
      "[[1 2 3]\n",
      " [4 5 6]] (2, 3)\n",
      "[1 2 3 4 5 6 7 8 9]\n",
      "[0. 0. 0. 0. 0. 0. 0. 0. 0. 0.]\n",
      "[[1 1 1]\n",
      " [1 1 1]\n",
      " [1 1 1]]\n",
      "[[0 0 0]\n",
      " [0 0 0]\n",
      " [0 0 0]]\n",
      "[[1 1 1]\n",
      " [1 1 1]\n",
      " [1 1 1]]\n",
      "[[3 3 3]\n",
      " [3 3 3]\n",
      " [3 3 3]]\n",
      "[0.2 0.2 0.2 0.2 0.2]\n"
     ]
    }
   ],
   "source": [
    "import numpy as np\n",
    "a = np.array([[1,2,3],[4,5,6]])\n",
    "print(a, a.shape)\n",
    "\n",
    "b = np.arange(1, 10)\n",
    "print(b)\n",
    "\n",
    "# 10个0\n",
    "c = np.zeros(10, dtype='float32')\n",
    "print(c)\n",
    "\n",
    "# 3x3个1\n",
    "d = np.ones((3, 3), dtype='int32')\n",
    "print(d)\n",
    "\n",
    "# 创建一个结构像d的数组，元素都为0\n",
    "e = np.zeros_like(d)\n",
    "print(e)\n",
    "\n",
    "f = np.ones_like(e)\n",
    "print(f)\n",
    "print(f * 3)\n",
    "print(np.ones(5) / 5)"
   ]
  },
  {
   "cell_type": "code",
   "execution_count": 53,
   "metadata": {},
   "outputs": [
    {
     "name": "stdout",
     "output_type": "stream",
     "text": [
      "[1 2 3 4 5 6] (6,)\n",
      "[[1 2 3]\n",
      " [4 5 6]] (2, 3)\n",
      "[[1. 2. 3.]\n",
      " [4. 5. 6.]] float64\n",
      "size: 6 len: 2\n",
      "[ 1  2  3  4  5  6  7  8  9 10 11 12 13 14 15 16 17 18]\n",
      "[[[ 1  2  3]\n",
      "  [ 4  5  6]]\n",
      "\n",
      " [[ 7  8  9]\n",
      "  [10 11 12]]\n",
      "\n",
      " [[13 14 15]\n",
      "  [16 17 18]]]\n",
      "[[1 2 3]\n",
      " [4 5 6]]\n",
      "[1 2 3]\n",
      "1\n",
      "1\n",
      "2\n",
      "3\n",
      "4\n",
      "5\n",
      "6\n",
      "7\n",
      "8\n",
      "9\n",
      "10\n",
      "11\n",
      "12\n",
      "13\n",
      "14\n",
      "15\n",
      "16\n",
      "17\n",
      "18\n"
     ]
    }
   ],
   "source": [
    "import numpy as np\n",
    "# 数组的维度\n",
    "ary = np.arange(1, 7)\n",
    "print(ary, ary.shape)\n",
    "\n",
    "# 修改维度\n",
    "ary.shape = (2, 3)\n",
    "print(ary, ary.shape)\n",
    "\n",
    "# 修改元素类型\n",
    "ary = ary.astype('float64')\n",
    "print(ary, ary.dtype)\n",
    "\n",
    "# 数组长度\n",
    "print('size:',ary.size, 'len:',len(ary))\n",
    "\n",
    "# 数组索引\n",
    "a = np.arange(1, 19)\n",
    "print(a)\n",
    "# 3页、2行、3列\n",
    "a.shape = (3, 2, 3)\n",
    "print(a)\n",
    "print(a[0])\n",
    "print(a[0][0])\n",
    "print(a[0][0][0])\n",
    "for i in range(a.shape[0]):\n",
    "    for j in range(a.shape[1]):\n",
    "        for k in range(a.shape[2]):\n",
    "            print(a[i, j, k])"
   ]
  },
  {
   "cell_type": "code",
   "execution_count": null,
   "metadata": {},
   "outputs": [],
   "source": []
  },
  {
   "cell_type": "code",
   "execution_count": null,
   "metadata": {},
   "outputs": [],
   "source": []
  }
 ],
 "metadata": {
  "kernelspec": {
   "display_name": "Python 3",
   "language": "python",
   "name": "python3"
  },
  "language_info": {
   "codemirror_mode": {
    "name": "ipython",
    "version": 3
   },
   "file_extension": ".py",
   "mimetype": "text/x-python",
   "name": "python",
   "nbconvert_exporter": "python",
   "pygments_lexer": "ipython3",
   "version": "3.7.3"
  }
 },
 "nbformat": 4,
 "nbformat_minor": 2
}
