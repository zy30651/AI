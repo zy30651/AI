{
 "cells": [
  {
   "cell_type": "code",
   "execution_count": 10,
   "metadata": {},
   "outputs": [
    {
     "name": "stdout",
     "output_type": "stream",
     "text": [
      "[1 2 3 4 5 6 7 8 9]\n",
      "[1 2 3]\n",
      "[4 5 6]\n",
      "[7 8 9]\n",
      "[9 8 7 6 5 4 3 2 1]\n",
      "[9 8 7]\n",
      "[6 5 4]\n",
      "[3 2 1]\n",
      "[1 2 3 4 5 6 7 8 9]\n",
      "[1 2 3 4 5 6 7 8 9]\n",
      "[1 4 7]\n",
      "[2 5 8]\n",
      "[3 6 9]\n"
     ]
    }
   ],
   "source": [
    "import numpy as np\n",
    "# 切片 起始位置、终止位置、步长；都可以省略\n",
    "a = np.arange(1, 10)  # 从1-9，但是包前不包后  \n",
    "print(a)\n",
    "print(a[:3])\n",
    "print(a[3:6])\n",
    "print(a[6:])\n",
    "print(a[::-1])\n",
    "print(a[:-4:-1])     # 倒着切，切刀倒数第四，不包含倒数第四；\n",
    "print(a[-4:-7:-1])\n",
    "print(a[-7::-1])\n",
    "print(a[::])\n",
    "print(a[:])\n",
    "print(a[::3])\n",
    "print(a[1::3])\n",
    "print(a[2::3])"
   ]
  }
 ],
 "metadata": {
  "kernelspec": {
   "display_name": "Python 3",
   "language": "python",
   "name": "python3"
  },
  "language_info": {
   "codemirror_mode": {
    "name": "ipython",
    "version": 3
   },
   "file_extension": ".py",
   "mimetype": "text/x-python",
   "name": "python",
   "nbconvert_exporter": "python",
   "pygments_lexer": "ipython3",
   "version": "3.7.3"
  }
 },
 "nbformat": 4,
 "nbformat_minor": 2
}
